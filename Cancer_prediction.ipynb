{
  "nbformat": 4,
  "nbformat_minor": 0,
  "metadata": {
    "colab": {
      "name": "Cancer-prediction.ipynb",
      "provenance": [],
      "collapsed_sections": [],
      "authorship_tag": "ABX9TyOE0RaYcikrVK2et4HLQkaE",
      "include_colab_link": true
    },
    "kernelspec": {
      "name": "python3",
      "display_name": "Python 3"
    }
  },
  "cells": [
    {
      "cell_type": "markdown",
      "metadata": {
        "id": "view-in-github",
        "colab_type": "text"
      },
      "source": [
        "<a href=\"https://colab.research.google.com/github/mayank444/Cancer-Prediction/blob/main/Cancer_prediction.ipynb\" target=\"_parent\"><img src=\"https://colab.research.google.com/assets/colab-badge.svg\" alt=\"Open In Colab\"/></a>"
      ]
    },
    {
      "cell_type": "markdown",
      "metadata": {
        "id": "9VymZ35IDDfq"
      },
      "source": [
        "# Import Libraries"
      ]
    },
    {
      "cell_type": "code",
      "metadata": {
        "id": "nfAUbWZLB9lL"
      },
      "source": [
        "import pandas as pd\r\n",
        "import numpy as np\r\n",
        "import sklearn"
      ],
      "execution_count": 1,
      "outputs": []
    },
    {
      "cell_type": "markdown",
      "metadata": {
        "id": "tKy8dz5PDPKN"
      },
      "source": [
        "# Load Dataset"
      ]
    },
    {
      "cell_type": "code",
      "metadata": {
        "id": "OcJqsNy-DN8W"
      },
      "source": [
        "from sklearn.datasets import load_breast_cancer\r\n",
        "data = load_breast_cancer()"
      ],
      "execution_count": 2,
      "outputs": []
    },
    {
      "cell_type": "code",
      "metadata": {
        "colab": {
          "base_uri": "https://localhost:8080/"
        },
        "id": "2t7ZIG-LDibS",
        "outputId": "5ac175da-e951-4438-d9d4-575e87177456"
      },
      "source": [
        "data.data"
      ],
      "execution_count": 3,
      "outputs": [
        {
          "output_type": "execute_result",
          "data": {
            "text/plain": [
              "array([[1.799e+01, 1.038e+01, 1.228e+02, ..., 2.654e-01, 4.601e-01,\n",
              "        1.189e-01],\n",
              "       [2.057e+01, 1.777e+01, 1.329e+02, ..., 1.860e-01, 2.750e-01,\n",
              "        8.902e-02],\n",
              "       [1.969e+01, 2.125e+01, 1.300e+02, ..., 2.430e-01, 3.613e-01,\n",
              "        8.758e-02],\n",
              "       ...,\n",
              "       [1.660e+01, 2.808e+01, 1.083e+02, ..., 1.418e-01, 2.218e-01,\n",
              "        7.820e-02],\n",
              "       [2.060e+01, 2.933e+01, 1.401e+02, ..., 2.650e-01, 4.087e-01,\n",
              "        1.240e-01],\n",
              "       [7.760e+00, 2.454e+01, 4.792e+01, ..., 0.000e+00, 2.871e-01,\n",
              "        7.039e-02]])"
            ]
          },
          "metadata": {
            "tags": []
          },
          "execution_count": 3
        }
      ]
    },
    {
      "cell_type": "code",
      "metadata": {
        "colab": {
          "base_uri": "https://localhost:8080/"
        },
        "id": "NEua7K0yDj_D",
        "outputId": "3c5bc831-d2f6-47aa-9331-ef9bf353ea39"
      },
      "source": [
        "data.keys()"
      ],
      "execution_count": 4,
      "outputs": [
        {
          "output_type": "execute_result",
          "data": {
            "text/plain": [
              "dict_keys(['data', 'target', 'target_names', 'DESCR', 'feature_names', 'filename'])"
            ]
          },
          "metadata": {
            "tags": []
          },
          "execution_count": 4
        }
      ]
    },
    {
      "cell_type": "code",
      "metadata": {
        "colab": {
          "base_uri": "https://localhost:8080/"
        },
        "id": "X3l8OG-TDt-M",
        "outputId": "28f7700b-6d62-43e3-dacf-a293df61e97f"
      },
      "source": [
        "data.target"
      ],
      "execution_count": 5,
      "outputs": [
        {
          "output_type": "execute_result",
          "data": {
            "text/plain": [
              "array([0, 0, 0, 0, 0, 0, 0, 0, 0, 0, 0, 0, 0, 0, 0, 0, 0, 0, 0, 1, 1, 1,\n",
              "       0, 0, 0, 0, 0, 0, 0, 0, 0, 0, 0, 0, 0, 0, 0, 1, 0, 0, 0, 0, 0, 0,\n",
              "       0, 0, 1, 0, 1, 1, 1, 1, 1, 0, 0, 1, 0, 0, 1, 1, 1, 1, 0, 1, 0, 0,\n",
              "       1, 1, 1, 1, 0, 1, 0, 0, 1, 0, 1, 0, 0, 1, 1, 1, 0, 0, 1, 0, 0, 0,\n",
              "       1, 1, 1, 0, 1, 1, 0, 0, 1, 1, 1, 0, 0, 1, 1, 1, 1, 0, 1, 1, 0, 1,\n",
              "       1, 1, 1, 1, 1, 1, 1, 0, 0, 0, 1, 0, 0, 1, 1, 1, 0, 0, 1, 0, 1, 0,\n",
              "       0, 1, 0, 0, 1, 1, 0, 1, 1, 0, 1, 1, 1, 1, 0, 1, 1, 1, 1, 1, 1, 1,\n",
              "       1, 1, 0, 1, 1, 1, 1, 0, 0, 1, 0, 1, 1, 0, 0, 1, 1, 0, 0, 1, 1, 1,\n",
              "       1, 0, 1, 1, 0, 0, 0, 1, 0, 1, 0, 1, 1, 1, 0, 1, 1, 0, 0, 1, 0, 0,\n",
              "       0, 0, 1, 0, 0, 0, 1, 0, 1, 0, 1, 1, 0, 1, 0, 0, 0, 0, 1, 1, 0, 0,\n",
              "       1, 1, 1, 0, 1, 1, 1, 1, 1, 0, 0, 1, 1, 0, 1, 1, 0, 0, 1, 0, 1, 1,\n",
              "       1, 1, 0, 1, 1, 1, 1, 1, 0, 1, 0, 0, 0, 0, 0, 0, 0, 0, 0, 0, 0, 0,\n",
              "       0, 0, 1, 1, 1, 1, 1, 1, 0, 1, 0, 1, 1, 0, 1, 1, 0, 1, 0, 0, 1, 1,\n",
              "       1, 1, 1, 1, 1, 1, 1, 1, 1, 1, 1, 0, 1, 1, 0, 1, 0, 1, 1, 1, 1, 1,\n",
              "       1, 1, 1, 1, 1, 1, 1, 1, 1, 0, 1, 1, 1, 0, 1, 0, 1, 1, 1, 1, 0, 0,\n",
              "       0, 1, 1, 1, 1, 0, 1, 0, 1, 0, 1, 1, 1, 0, 1, 1, 1, 1, 1, 1, 1, 0,\n",
              "       0, 0, 1, 1, 1, 1, 1, 1, 1, 1, 1, 1, 1, 0, 0, 1, 0, 0, 0, 1, 0, 0,\n",
              "       1, 1, 1, 1, 1, 0, 1, 1, 1, 1, 1, 0, 1, 1, 1, 0, 1, 1, 0, 0, 1, 1,\n",
              "       1, 1, 1, 1, 0, 1, 1, 1, 1, 1, 1, 1, 0, 1, 1, 1, 1, 1, 0, 1, 1, 0,\n",
              "       1, 1, 1, 1, 1, 1, 1, 1, 1, 1, 1, 1, 0, 1, 0, 0, 1, 0, 1, 1, 1, 1,\n",
              "       1, 0, 1, 1, 0, 1, 0, 1, 1, 0, 1, 0, 1, 1, 1, 1, 1, 1, 1, 1, 0, 0,\n",
              "       1, 1, 1, 1, 1, 1, 0, 1, 1, 1, 1, 1, 1, 1, 1, 1, 1, 0, 1, 1, 1, 1,\n",
              "       1, 1, 1, 0, 1, 0, 1, 1, 0, 1, 1, 1, 1, 1, 0, 0, 1, 0, 1, 0, 1, 1,\n",
              "       1, 1, 1, 0, 1, 1, 0, 1, 0, 1, 0, 0, 1, 1, 1, 0, 1, 1, 1, 1, 1, 1,\n",
              "       1, 1, 1, 1, 1, 0, 1, 0, 0, 1, 1, 1, 1, 1, 1, 1, 1, 1, 1, 1, 1, 1,\n",
              "       1, 1, 1, 1, 1, 1, 1, 1, 1, 1, 1, 1, 0, 0, 0, 0, 0, 0, 1])"
            ]
          },
          "metadata": {
            "tags": []
          },
          "execution_count": 5
        }
      ]
    },
    {
      "cell_type": "code",
      "metadata": {
        "colab": {
          "base_uri": "https://localhost:8080/"
        },
        "id": "1kwp7nxpDyQ4",
        "outputId": "5c68d0e3-3f64-46e0-e3ed-375e682d0c4d"
      },
      "source": [
        "data.target_names"
      ],
      "execution_count": 6,
      "outputs": [
        {
          "output_type": "execute_result",
          "data": {
            "text/plain": [
              "array(['malignant', 'benign'], dtype='<U9')"
            ]
          },
          "metadata": {
            "tags": []
          },
          "execution_count": 6
        }
      ]
    },
    {
      "cell_type": "code",
      "metadata": {
        "colab": {
          "base_uri": "https://localhost:8080/"
        },
        "id": "GeqNXIwjD122",
        "outputId": "3d75a3ee-671f-4d2c-c8b5-e3d82bff53db"
      },
      "source": [
        "data.feature_names"
      ],
      "execution_count": 7,
      "outputs": [
        {
          "output_type": "execute_result",
          "data": {
            "text/plain": [
              "array(['mean radius', 'mean texture', 'mean perimeter', 'mean area',\n",
              "       'mean smoothness', 'mean compactness', 'mean concavity',\n",
              "       'mean concave points', 'mean symmetry', 'mean fractal dimension',\n",
              "       'radius error', 'texture error', 'perimeter error', 'area error',\n",
              "       'smoothness error', 'compactness error', 'concavity error',\n",
              "       'concave points error', 'symmetry error',\n",
              "       'fractal dimension error', 'worst radius', 'worst texture',\n",
              "       'worst perimeter', 'worst area', 'worst smoothness',\n",
              "       'worst compactness', 'worst concavity', 'worst concave points',\n",
              "       'worst symmetry', 'worst fractal dimension'], dtype='<U23')"
            ]
          },
          "metadata": {
            "tags": []
          },
          "execution_count": 7
        }
      ]
    },
    {
      "cell_type": "markdown",
      "metadata": {
        "id": "PVeHlu4zD-tt"
      },
      "source": [
        "# Create Dataframe"
      ]
    },
    {
      "cell_type": "code",
      "metadata": {
        "id": "9iXhR6gjD32b"
      },
      "source": [
        "df = pd.DataFrame(np.c_[data.data,data.target], columns=[list(data.feature_names)+['target']])"
      ],
      "execution_count": 8,
      "outputs": []
    },
    {
      "cell_type": "code",
      "metadata": {
        "colab": {
          "base_uri": "https://localhost:8080/"
        },
        "id": "_Yvs4QWcJD8h",
        "outputId": "96a28d1f-7d3c-4cbc-d4db-e026a90adf89"
      },
      "source": [
        "df.isnull().sum()"
      ],
      "execution_count": 9,
      "outputs": [
        {
          "output_type": "execute_result",
          "data": {
            "text/plain": [
              "mean radius                0\n",
              "mean texture               0\n",
              "mean perimeter             0\n",
              "mean area                  0\n",
              "mean smoothness            0\n",
              "mean compactness           0\n",
              "mean concavity             0\n",
              "mean concave points        0\n",
              "mean symmetry              0\n",
              "mean fractal dimension     0\n",
              "radius error               0\n",
              "texture error              0\n",
              "perimeter error            0\n",
              "area error                 0\n",
              "smoothness error           0\n",
              "compactness error          0\n",
              "concavity error            0\n",
              "concave points error       0\n",
              "symmetry error             0\n",
              "fractal dimension error    0\n",
              "worst radius               0\n",
              "worst texture              0\n",
              "worst perimeter            0\n",
              "worst area                 0\n",
              "worst smoothness           0\n",
              "worst compactness          0\n",
              "worst concavity            0\n",
              "worst concave points       0\n",
              "worst symmetry             0\n",
              "worst fractal dimension    0\n",
              "target                     0\n",
              "dtype: int64"
            ]
          },
          "metadata": {
            "tags": []
          },
          "execution_count": 9
        }
      ]
    },
    {
      "cell_type": "code",
      "metadata": {
        "colab": {
          "base_uri": "https://localhost:8080/",
          "height": 261
        },
        "id": "VvNHSt28EznB",
        "outputId": "21720fce-c899-4445-f520-92ae148f6ee3"
      },
      "source": [
        "df.head()"
      ],
      "execution_count": 10,
      "outputs": [
        {
          "output_type": "execute_result",
          "data": {
            "text/html": [
              "<div>\n",
              "<style scoped>\n",
              "    .dataframe tbody tr th:only-of-type {\n",
              "        vertical-align: middle;\n",
              "    }\n",
              "\n",
              "    .dataframe tbody tr th {\n",
              "        vertical-align: top;\n",
              "    }\n",
              "\n",
              "    .dataframe thead tr th {\n",
              "        text-align: left;\n",
              "    }\n",
              "</style>\n",
              "<table border=\"1\" class=\"dataframe\">\n",
              "  <thead>\n",
              "    <tr>\n",
              "      <th></th>\n",
              "      <th>mean radius</th>\n",
              "      <th>mean texture</th>\n",
              "      <th>mean perimeter</th>\n",
              "      <th>mean area</th>\n",
              "      <th>mean smoothness</th>\n",
              "      <th>mean compactness</th>\n",
              "      <th>mean concavity</th>\n",
              "      <th>mean concave points</th>\n",
              "      <th>mean symmetry</th>\n",
              "      <th>mean fractal dimension</th>\n",
              "      <th>radius error</th>\n",
              "      <th>texture error</th>\n",
              "      <th>perimeter error</th>\n",
              "      <th>area error</th>\n",
              "      <th>smoothness error</th>\n",
              "      <th>compactness error</th>\n",
              "      <th>concavity error</th>\n",
              "      <th>concave points error</th>\n",
              "      <th>symmetry error</th>\n",
              "      <th>fractal dimension error</th>\n",
              "      <th>worst radius</th>\n",
              "      <th>worst texture</th>\n",
              "      <th>worst perimeter</th>\n",
              "      <th>worst area</th>\n",
              "      <th>worst smoothness</th>\n",
              "      <th>worst compactness</th>\n",
              "      <th>worst concavity</th>\n",
              "      <th>worst concave points</th>\n",
              "      <th>worst symmetry</th>\n",
              "      <th>worst fractal dimension</th>\n",
              "      <th>target</th>\n",
              "    </tr>\n",
              "  </thead>\n",
              "  <tbody>\n",
              "    <tr>\n",
              "      <th>0</th>\n",
              "      <td>17.99</td>\n",
              "      <td>10.38</td>\n",
              "      <td>122.80</td>\n",
              "      <td>1001.0</td>\n",
              "      <td>0.11840</td>\n",
              "      <td>0.27760</td>\n",
              "      <td>0.3001</td>\n",
              "      <td>0.14710</td>\n",
              "      <td>0.2419</td>\n",
              "      <td>0.07871</td>\n",
              "      <td>1.0950</td>\n",
              "      <td>0.9053</td>\n",
              "      <td>8.589</td>\n",
              "      <td>153.40</td>\n",
              "      <td>0.006399</td>\n",
              "      <td>0.04904</td>\n",
              "      <td>0.05373</td>\n",
              "      <td>0.01587</td>\n",
              "      <td>0.03003</td>\n",
              "      <td>0.006193</td>\n",
              "      <td>25.38</td>\n",
              "      <td>17.33</td>\n",
              "      <td>184.60</td>\n",
              "      <td>2019.0</td>\n",
              "      <td>0.1622</td>\n",
              "      <td>0.6656</td>\n",
              "      <td>0.7119</td>\n",
              "      <td>0.2654</td>\n",
              "      <td>0.4601</td>\n",
              "      <td>0.11890</td>\n",
              "      <td>0.0</td>\n",
              "    </tr>\n",
              "    <tr>\n",
              "      <th>1</th>\n",
              "      <td>20.57</td>\n",
              "      <td>17.77</td>\n",
              "      <td>132.90</td>\n",
              "      <td>1326.0</td>\n",
              "      <td>0.08474</td>\n",
              "      <td>0.07864</td>\n",
              "      <td>0.0869</td>\n",
              "      <td>0.07017</td>\n",
              "      <td>0.1812</td>\n",
              "      <td>0.05667</td>\n",
              "      <td>0.5435</td>\n",
              "      <td>0.7339</td>\n",
              "      <td>3.398</td>\n",
              "      <td>74.08</td>\n",
              "      <td>0.005225</td>\n",
              "      <td>0.01308</td>\n",
              "      <td>0.01860</td>\n",
              "      <td>0.01340</td>\n",
              "      <td>0.01389</td>\n",
              "      <td>0.003532</td>\n",
              "      <td>24.99</td>\n",
              "      <td>23.41</td>\n",
              "      <td>158.80</td>\n",
              "      <td>1956.0</td>\n",
              "      <td>0.1238</td>\n",
              "      <td>0.1866</td>\n",
              "      <td>0.2416</td>\n",
              "      <td>0.1860</td>\n",
              "      <td>0.2750</td>\n",
              "      <td>0.08902</td>\n",
              "      <td>0.0</td>\n",
              "    </tr>\n",
              "    <tr>\n",
              "      <th>2</th>\n",
              "      <td>19.69</td>\n",
              "      <td>21.25</td>\n",
              "      <td>130.00</td>\n",
              "      <td>1203.0</td>\n",
              "      <td>0.10960</td>\n",
              "      <td>0.15990</td>\n",
              "      <td>0.1974</td>\n",
              "      <td>0.12790</td>\n",
              "      <td>0.2069</td>\n",
              "      <td>0.05999</td>\n",
              "      <td>0.7456</td>\n",
              "      <td>0.7869</td>\n",
              "      <td>4.585</td>\n",
              "      <td>94.03</td>\n",
              "      <td>0.006150</td>\n",
              "      <td>0.04006</td>\n",
              "      <td>0.03832</td>\n",
              "      <td>0.02058</td>\n",
              "      <td>0.02250</td>\n",
              "      <td>0.004571</td>\n",
              "      <td>23.57</td>\n",
              "      <td>25.53</td>\n",
              "      <td>152.50</td>\n",
              "      <td>1709.0</td>\n",
              "      <td>0.1444</td>\n",
              "      <td>0.4245</td>\n",
              "      <td>0.4504</td>\n",
              "      <td>0.2430</td>\n",
              "      <td>0.3613</td>\n",
              "      <td>0.08758</td>\n",
              "      <td>0.0</td>\n",
              "    </tr>\n",
              "    <tr>\n",
              "      <th>3</th>\n",
              "      <td>11.42</td>\n",
              "      <td>20.38</td>\n",
              "      <td>77.58</td>\n",
              "      <td>386.1</td>\n",
              "      <td>0.14250</td>\n",
              "      <td>0.28390</td>\n",
              "      <td>0.2414</td>\n",
              "      <td>0.10520</td>\n",
              "      <td>0.2597</td>\n",
              "      <td>0.09744</td>\n",
              "      <td>0.4956</td>\n",
              "      <td>1.1560</td>\n",
              "      <td>3.445</td>\n",
              "      <td>27.23</td>\n",
              "      <td>0.009110</td>\n",
              "      <td>0.07458</td>\n",
              "      <td>0.05661</td>\n",
              "      <td>0.01867</td>\n",
              "      <td>0.05963</td>\n",
              "      <td>0.009208</td>\n",
              "      <td>14.91</td>\n",
              "      <td>26.50</td>\n",
              "      <td>98.87</td>\n",
              "      <td>567.7</td>\n",
              "      <td>0.2098</td>\n",
              "      <td>0.8663</td>\n",
              "      <td>0.6869</td>\n",
              "      <td>0.2575</td>\n",
              "      <td>0.6638</td>\n",
              "      <td>0.17300</td>\n",
              "      <td>0.0</td>\n",
              "    </tr>\n",
              "    <tr>\n",
              "      <th>4</th>\n",
              "      <td>20.29</td>\n",
              "      <td>14.34</td>\n",
              "      <td>135.10</td>\n",
              "      <td>1297.0</td>\n",
              "      <td>0.10030</td>\n",
              "      <td>0.13280</td>\n",
              "      <td>0.1980</td>\n",
              "      <td>0.10430</td>\n",
              "      <td>0.1809</td>\n",
              "      <td>0.05883</td>\n",
              "      <td>0.7572</td>\n",
              "      <td>0.7813</td>\n",
              "      <td>5.438</td>\n",
              "      <td>94.44</td>\n",
              "      <td>0.011490</td>\n",
              "      <td>0.02461</td>\n",
              "      <td>0.05688</td>\n",
              "      <td>0.01885</td>\n",
              "      <td>0.01756</td>\n",
              "      <td>0.005115</td>\n",
              "      <td>22.54</td>\n",
              "      <td>16.67</td>\n",
              "      <td>152.20</td>\n",
              "      <td>1575.0</td>\n",
              "      <td>0.1374</td>\n",
              "      <td>0.2050</td>\n",
              "      <td>0.4000</td>\n",
              "      <td>0.1625</td>\n",
              "      <td>0.2364</td>\n",
              "      <td>0.07678</td>\n",
              "      <td>0.0</td>\n",
              "    </tr>\n",
              "  </tbody>\n",
              "</table>\n",
              "</div>"
            ],
            "text/plain": [
              "  mean radius mean texture  ... worst fractal dimension target\n",
              "0       17.99        10.38  ...                 0.11890    0.0\n",
              "1       20.57        17.77  ...                 0.08902    0.0\n",
              "2       19.69        21.25  ...                 0.08758    0.0\n",
              "3       11.42        20.38  ...                 0.17300    0.0\n",
              "4       20.29        14.34  ...                 0.07678    0.0\n",
              "\n",
              "[5 rows x 31 columns]"
            ]
          },
          "metadata": {
            "tags": []
          },
          "execution_count": 10
        }
      ]
    },
    {
      "cell_type": "code",
      "metadata": {
        "colab": {
          "base_uri": "https://localhost:8080/"
        },
        "id": "zMIUhlw2E7KU",
        "outputId": "6d616e7f-8348-4a62-e5d0-899915625360"
      },
      "source": [
        "df.shape"
      ],
      "execution_count": 11,
      "outputs": [
        {
          "output_type": "execute_result",
          "data": {
            "text/plain": [
              "(569, 31)"
            ]
          },
          "metadata": {
            "tags": []
          },
          "execution_count": 11
        }
      ]
    },
    {
      "cell_type": "markdown",
      "metadata": {
        "id": "Nf3A4mzYFCwH"
      },
      "source": [
        "# Split Data"
      ]
    },
    {
      "cell_type": "code",
      "metadata": {
        "id": "nfxTrLzKE-zt"
      },
      "source": [
        "X = df.iloc[:,0:-1]\r\n",
        "y = df.iloc[:,-1]"
      ],
      "execution_count": 12,
      "outputs": []
    },
    {
      "cell_type": "code",
      "metadata": {
        "colab": {
          "base_uri": "https://localhost:8080/"
        },
        "id": "hgsHOIZAFSOH",
        "outputId": "f6bf2bcd-f8c3-408b-e44c-f05b83e2d2d9"
      },
      "source": [
        "print('shape of X:',X.shape)\r\n",
        "print('shape of y:',y.shape)"
      ],
      "execution_count": 13,
      "outputs": [
        {
          "output_type": "stream",
          "text": [
            "shape of X: (569, 30)\n",
            "shape of y: (569,)\n"
          ],
          "name": "stdout"
        }
      ]
    },
    {
      "cell_type": "code",
      "metadata": {
        "colab": {
          "base_uri": "https://localhost:8080/"
        },
        "id": "YOKJ91pnFTjt",
        "outputId": "5f685aae-bce2-41c7-9f2b-c06bfc081c42"
      },
      "source": [
        "from sklearn.model_selection import train_test_split\r\n",
        "X_train,X_test,y_train,y_test = train_test_split(X,y,test_size=0.2,random_state=2020)\r\n",
        "print('shape of X_train:',X_train.shape)\r\n",
        "print('shape of X_test:',X_test.shape)\r\n",
        "print('shape of y_train:',y_train.shape)\r\n",
        "print('shape of y_test:',y_test.shape)"
      ],
      "execution_count": 14,
      "outputs": [
        {
          "output_type": "stream",
          "text": [
            "shape of X_train: (455, 30)\n",
            "shape of X_test: (114, 30)\n",
            "shape of y_train: (455,)\n",
            "shape of y_test: (114,)\n"
          ],
          "name": "stdout"
        }
      ]
    },
    {
      "cell_type": "code",
      "metadata": {
        "colab": {
          "base_uri": "https://localhost:8080/",
          "height": 355
        },
        "id": "tXuPfOK-JSl1",
        "outputId": "ce85cf83-d40c-4ed0-a71f-33f4075440e5"
      },
      "source": [
        "X_train.describe()"
      ],
      "execution_count": 15,
      "outputs": [
        {
          "output_type": "execute_result",
          "data": {
            "text/html": [
              "<div>\n",
              "<style scoped>\n",
              "    .dataframe tbody tr th:only-of-type {\n",
              "        vertical-align: middle;\n",
              "    }\n",
              "\n",
              "    .dataframe tbody tr th {\n",
              "        vertical-align: top;\n",
              "    }\n",
              "\n",
              "    .dataframe thead tr th {\n",
              "        text-align: left;\n",
              "    }\n",
              "</style>\n",
              "<table border=\"1\" class=\"dataframe\">\n",
              "  <thead>\n",
              "    <tr>\n",
              "      <th></th>\n",
              "      <th>mean radius</th>\n",
              "      <th>mean texture</th>\n",
              "      <th>mean perimeter</th>\n",
              "      <th>mean area</th>\n",
              "      <th>mean smoothness</th>\n",
              "      <th>mean compactness</th>\n",
              "      <th>mean concavity</th>\n",
              "      <th>mean concave points</th>\n",
              "      <th>mean symmetry</th>\n",
              "      <th>mean fractal dimension</th>\n",
              "      <th>radius error</th>\n",
              "      <th>texture error</th>\n",
              "      <th>perimeter error</th>\n",
              "      <th>area error</th>\n",
              "      <th>smoothness error</th>\n",
              "      <th>compactness error</th>\n",
              "      <th>concavity error</th>\n",
              "      <th>concave points error</th>\n",
              "      <th>symmetry error</th>\n",
              "      <th>fractal dimension error</th>\n",
              "      <th>worst radius</th>\n",
              "      <th>worst texture</th>\n",
              "      <th>worst perimeter</th>\n",
              "      <th>worst area</th>\n",
              "      <th>worst smoothness</th>\n",
              "      <th>worst compactness</th>\n",
              "      <th>worst concavity</th>\n",
              "      <th>worst concave points</th>\n",
              "      <th>worst symmetry</th>\n",
              "      <th>worst fractal dimension</th>\n",
              "    </tr>\n",
              "  </thead>\n",
              "  <tbody>\n",
              "    <tr>\n",
              "      <th>count</th>\n",
              "      <td>455.000000</td>\n",
              "      <td>455.000000</td>\n",
              "      <td>455.000000</td>\n",
              "      <td>455.000000</td>\n",
              "      <td>455.000000</td>\n",
              "      <td>455.000000</td>\n",
              "      <td>455.000000</td>\n",
              "      <td>455.000000</td>\n",
              "      <td>455.000000</td>\n",
              "      <td>455.000000</td>\n",
              "      <td>455.000000</td>\n",
              "      <td>455.000000</td>\n",
              "      <td>455.000000</td>\n",
              "      <td>455.000000</td>\n",
              "      <td>455.000000</td>\n",
              "      <td>455.000000</td>\n",
              "      <td>455.000000</td>\n",
              "      <td>455.000000</td>\n",
              "      <td>455.000000</td>\n",
              "      <td>455.000000</td>\n",
              "      <td>455.000000</td>\n",
              "      <td>455.000000</td>\n",
              "      <td>455.000000</td>\n",
              "      <td>455.000000</td>\n",
              "      <td>455.000000</td>\n",
              "      <td>455.000000</td>\n",
              "      <td>455.000000</td>\n",
              "      <td>455.000000</td>\n",
              "      <td>455.000000</td>\n",
              "      <td>455.000000</td>\n",
              "    </tr>\n",
              "    <tr>\n",
              "      <th>mean</th>\n",
              "      <td>14.045567</td>\n",
              "      <td>19.249385</td>\n",
              "      <td>91.379846</td>\n",
              "      <td>646.732967</td>\n",
              "      <td>0.096004</td>\n",
              "      <td>0.102339</td>\n",
              "      <td>0.087007</td>\n",
              "      <td>0.047667</td>\n",
              "      <td>0.179602</td>\n",
              "      <td>0.062619</td>\n",
              "      <td>0.396238</td>\n",
              "      <td>1.209647</td>\n",
              "      <td>2.815857</td>\n",
              "      <td>39.442738</td>\n",
              "      <td>0.007071</td>\n",
              "      <td>0.024967</td>\n",
              "      <td>0.032037</td>\n",
              "      <td>0.011805</td>\n",
              "      <td>0.020303</td>\n",
              "      <td>0.003736</td>\n",
              "      <td>16.144404</td>\n",
              "      <td>25.646879</td>\n",
              "      <td>106.387956</td>\n",
              "      <td>866.685714</td>\n",
              "      <td>0.132518</td>\n",
              "      <td>0.248174</td>\n",
              "      <td>0.267380</td>\n",
              "      <td>0.113051</td>\n",
              "      <td>0.287864</td>\n",
              "      <td>0.083339</td>\n",
              "    </tr>\n",
              "    <tr>\n",
              "      <th>std</th>\n",
              "      <td>3.459058</td>\n",
              "      <td>4.346806</td>\n",
              "      <td>23.861514</td>\n",
              "      <td>345.700105</td>\n",
              "      <td>0.013836</td>\n",
              "      <td>0.051250</td>\n",
              "      <td>0.077704</td>\n",
              "      <td>0.037568</td>\n",
              "      <td>0.026566</td>\n",
              "      <td>0.006879</td>\n",
              "      <td>0.282476</td>\n",
              "      <td>0.537079</td>\n",
              "      <td>2.082734</td>\n",
              "      <td>46.605211</td>\n",
              "      <td>0.002862</td>\n",
              "      <td>0.017748</td>\n",
              "      <td>0.031709</td>\n",
              "      <td>0.006350</td>\n",
              "      <td>0.008164</td>\n",
              "      <td>0.002641</td>\n",
              "      <td>4.746823</td>\n",
              "      <td>6.145253</td>\n",
              "      <td>33.007915</td>\n",
              "      <td>559.034886</td>\n",
              "      <td>0.022679</td>\n",
              "      <td>0.148007</td>\n",
              "      <td>0.199153</td>\n",
              "      <td>0.063983</td>\n",
              "      <td>0.060145</td>\n",
              "      <td>0.016916</td>\n",
              "    </tr>\n",
              "    <tr>\n",
              "      <th>min</th>\n",
              "      <td>6.981000</td>\n",
              "      <td>9.710000</td>\n",
              "      <td>43.790000</td>\n",
              "      <td>143.500000</td>\n",
              "      <td>0.052630</td>\n",
              "      <td>0.019380</td>\n",
              "      <td>0.000000</td>\n",
              "      <td>0.000000</td>\n",
              "      <td>0.106000</td>\n",
              "      <td>0.049960</td>\n",
              "      <td>0.111500</td>\n",
              "      <td>0.360200</td>\n",
              "      <td>0.757000</td>\n",
              "      <td>7.228000</td>\n",
              "      <td>0.002826</td>\n",
              "      <td>0.002252</td>\n",
              "      <td>0.000000</td>\n",
              "      <td>0.000000</td>\n",
              "      <td>0.007882</td>\n",
              "      <td>0.000895</td>\n",
              "      <td>7.930000</td>\n",
              "      <td>12.020000</td>\n",
              "      <td>50.410000</td>\n",
              "      <td>185.200000</td>\n",
              "      <td>0.081250</td>\n",
              "      <td>0.034320</td>\n",
              "      <td>0.000000</td>\n",
              "      <td>0.000000</td>\n",
              "      <td>0.156500</td>\n",
              "      <td>0.055040</td>\n",
              "    </tr>\n",
              "    <tr>\n",
              "      <th>25%</th>\n",
              "      <td>11.645000</td>\n",
              "      <td>16.265000</td>\n",
              "      <td>74.700000</td>\n",
              "      <td>416.700000</td>\n",
              "      <td>0.085640</td>\n",
              "      <td>0.062985</td>\n",
              "      <td>0.028680</td>\n",
              "      <td>0.020220</td>\n",
              "      <td>0.161650</td>\n",
              "      <td>0.057635</td>\n",
              "      <td>0.227200</td>\n",
              "      <td>0.829150</td>\n",
              "      <td>1.569000</td>\n",
              "      <td>17.670000</td>\n",
              "      <td>0.005288</td>\n",
              "      <td>0.012715</td>\n",
              "      <td>0.015095</td>\n",
              "      <td>0.007520</td>\n",
              "      <td>0.014945</td>\n",
              "      <td>0.002225</td>\n",
              "      <td>12.890000</td>\n",
              "      <td>20.970000</td>\n",
              "      <td>83.795000</td>\n",
              "      <td>512.800000</td>\n",
              "      <td>0.117350</td>\n",
              "      <td>0.142650</td>\n",
              "      <td>0.110400</td>\n",
              "      <td>0.064955</td>\n",
              "      <td>0.249350</td>\n",
              "      <td>0.071365</td>\n",
              "    </tr>\n",
              "    <tr>\n",
              "      <th>50%</th>\n",
              "      <td>13.280000</td>\n",
              "      <td>18.750000</td>\n",
              "      <td>85.840000</td>\n",
              "      <td>546.100000</td>\n",
              "      <td>0.095240</td>\n",
              "      <td>0.092280</td>\n",
              "      <td>0.059290</td>\n",
              "      <td>0.032630</td>\n",
              "      <td>0.177600</td>\n",
              "      <td>0.061480</td>\n",
              "      <td>0.311800</td>\n",
              "      <td>1.108000</td>\n",
              "      <td>2.206000</td>\n",
              "      <td>23.810000</td>\n",
              "      <td>0.006472</td>\n",
              "      <td>0.020050</td>\n",
              "      <td>0.025090</td>\n",
              "      <td>0.010910</td>\n",
              "      <td>0.018700</td>\n",
              "      <td>0.003087</td>\n",
              "      <td>14.840000</td>\n",
              "      <td>25.230000</td>\n",
              "      <td>97.170000</td>\n",
              "      <td>677.300000</td>\n",
              "      <td>0.131600</td>\n",
              "      <td>0.211600</td>\n",
              "      <td>0.228200</td>\n",
              "      <td>0.098150</td>\n",
              "      <td>0.281200</td>\n",
              "      <td>0.079440</td>\n",
              "    </tr>\n",
              "    <tr>\n",
              "      <th>75%</th>\n",
              "      <td>15.680000</td>\n",
              "      <td>21.790000</td>\n",
              "      <td>103.050000</td>\n",
              "      <td>763.950000</td>\n",
              "      <td>0.105000</td>\n",
              "      <td>0.128350</td>\n",
              "      <td>0.125050</td>\n",
              "      <td>0.070275</td>\n",
              "      <td>0.194550</td>\n",
              "      <td>0.066005</td>\n",
              "      <td>0.456450</td>\n",
              "      <td>1.472000</td>\n",
              "      <td>3.268500</td>\n",
              "      <td>44.180000</td>\n",
              "      <td>0.008264</td>\n",
              "      <td>0.032065</td>\n",
              "      <td>0.043040</td>\n",
              "      <td>0.014645</td>\n",
              "      <td>0.022780</td>\n",
              "      <td>0.004457</td>\n",
              "      <td>18.410000</td>\n",
              "      <td>29.915000</td>\n",
              "      <td>123.500000</td>\n",
              "      <td>1031.500000</td>\n",
              "      <td>0.145800</td>\n",
              "      <td>0.330400</td>\n",
              "      <td>0.380250</td>\n",
              "      <td>0.158900</td>\n",
              "      <td>0.315300</td>\n",
              "      <td>0.092055</td>\n",
              "    </tr>\n",
              "    <tr>\n",
              "      <th>max</th>\n",
              "      <td>28.110000</td>\n",
              "      <td>39.280000</td>\n",
              "      <td>188.500000</td>\n",
              "      <td>2501.000000</td>\n",
              "      <td>0.142500</td>\n",
              "      <td>0.345400</td>\n",
              "      <td>0.410800</td>\n",
              "      <td>0.191300</td>\n",
              "      <td>0.304000</td>\n",
              "      <td>0.097440</td>\n",
              "      <td>2.873000</td>\n",
              "      <td>3.896000</td>\n",
              "      <td>21.980000</td>\n",
              "      <td>542.200000</td>\n",
              "      <td>0.031130</td>\n",
              "      <td>0.135400</td>\n",
              "      <td>0.396000</td>\n",
              "      <td>0.052790</td>\n",
              "      <td>0.078950</td>\n",
              "      <td>0.029840</td>\n",
              "      <td>36.040000</td>\n",
              "      <td>49.540000</td>\n",
              "      <td>251.200000</td>\n",
              "      <td>4254.000000</td>\n",
              "      <td>0.222600</td>\n",
              "      <td>0.937900</td>\n",
              "      <td>1.252000</td>\n",
              "      <td>0.286700</td>\n",
              "      <td>0.663800</td>\n",
              "      <td>0.173000</td>\n",
              "    </tr>\n",
              "  </tbody>\n",
              "</table>\n",
              "</div>"
            ],
            "text/plain": [
              "      mean radius mean texture  ... worst symmetry worst fractal dimension\n",
              "count  455.000000   455.000000  ...     455.000000              455.000000\n",
              "mean    14.045567    19.249385  ...       0.287864                0.083339\n",
              "std      3.459058     4.346806  ...       0.060145                0.016916\n",
              "min      6.981000     9.710000  ...       0.156500                0.055040\n",
              "25%     11.645000    16.265000  ...       0.249350                0.071365\n",
              "50%     13.280000    18.750000  ...       0.281200                0.079440\n",
              "75%     15.680000    21.790000  ...       0.315300                0.092055\n",
              "max     28.110000    39.280000  ...       0.663800                0.173000\n",
              "\n",
              "[8 rows x 30 columns]"
            ]
          },
          "metadata": {
            "tags": []
          },
          "execution_count": 15
        }
      ]
    },
    {
      "cell_type": "markdown",
      "metadata": {
        "id": "T_X8JPjoGcwy"
      },
      "source": [
        "# Feature Scaling"
      ]
    },
    {
      "cell_type": "code",
      "metadata": {
        "id": "vozgZ0o0GXyL"
      },
      "source": [
        "from sklearn.preprocessing import StandardScaler\r\n",
        "sc = StandardScaler()\r\n",
        "sc.fit(X_train)\r\n",
        "X_train_sc = sc.transform(X_train)\r\n",
        "X_test_sc = sc.transform(X_test)"
      ],
      "execution_count": 16,
      "outputs": []
    },
    {
      "cell_type": "code",
      "metadata": {
        "id": "pf6CAK-jHmVB"
      },
      "source": [
        "X_train_sc = pd.DataFrame(X_train_sc,columns=data['feature_names'])\r\n",
        "X_test_sc = pd.DataFrame(X_test_sc,columns=data['feature_names'])"
      ],
      "execution_count": 17,
      "outputs": []
    },
    {
      "cell_type": "code",
      "metadata": {
        "colab": {
          "base_uri": "https://localhost:8080/",
          "height": 261
        },
        "id": "Kai7dDjhHogY",
        "outputId": "06a8ac47-3a05-47e0-f1d6-dd11ddb9cb34"
      },
      "source": [
        "X_train_sc.head()"
      ],
      "execution_count": 18,
      "outputs": [
        {
          "output_type": "execute_result",
          "data": {
            "text/html": [
              "<div>\n",
              "<style scoped>\n",
              "    .dataframe tbody tr th:only-of-type {\n",
              "        vertical-align: middle;\n",
              "    }\n",
              "\n",
              "    .dataframe tbody tr th {\n",
              "        vertical-align: top;\n",
              "    }\n",
              "\n",
              "    .dataframe thead th {\n",
              "        text-align: right;\n",
              "    }\n",
              "</style>\n",
              "<table border=\"1\" class=\"dataframe\">\n",
              "  <thead>\n",
              "    <tr style=\"text-align: right;\">\n",
              "      <th></th>\n",
              "      <th>mean radius</th>\n",
              "      <th>mean texture</th>\n",
              "      <th>mean perimeter</th>\n",
              "      <th>mean area</th>\n",
              "      <th>mean smoothness</th>\n",
              "      <th>mean compactness</th>\n",
              "      <th>mean concavity</th>\n",
              "      <th>mean concave points</th>\n",
              "      <th>mean symmetry</th>\n",
              "      <th>mean fractal dimension</th>\n",
              "      <th>radius error</th>\n",
              "      <th>texture error</th>\n",
              "      <th>perimeter error</th>\n",
              "      <th>area error</th>\n",
              "      <th>smoothness error</th>\n",
              "      <th>compactness error</th>\n",
              "      <th>concavity error</th>\n",
              "      <th>concave points error</th>\n",
              "      <th>symmetry error</th>\n",
              "      <th>fractal dimension error</th>\n",
              "      <th>worst radius</th>\n",
              "      <th>worst texture</th>\n",
              "      <th>worst perimeter</th>\n",
              "      <th>worst area</th>\n",
              "      <th>worst smoothness</th>\n",
              "      <th>worst compactness</th>\n",
              "      <th>worst concavity</th>\n",
              "      <th>worst concave points</th>\n",
              "      <th>worst symmetry</th>\n",
              "      <th>worst fractal dimension</th>\n",
              "    </tr>\n",
              "  </thead>\n",
              "  <tbody>\n",
              "    <tr>\n",
              "      <th>0</th>\n",
              "      <td>-0.053706</td>\n",
              "      <td>-0.534171</td>\n",
              "      <td>-0.017614</td>\n",
              "      <td>-0.196435</td>\n",
              "      <td>0.477272</td>\n",
              "      <td>0.964199</td>\n",
              "      <td>0.154644</td>\n",
              "      <td>0.222602</td>\n",
              "      <td>1.168125</td>\n",
              "      <td>0.951841</td>\n",
              "      <td>-0.495945</td>\n",
              "      <td>-0.029166</td>\n",
              "      <td>-0.424360</td>\n",
              "      <td>-0.359856</td>\n",
              "      <td>-0.388733</td>\n",
              "      <td>0.530921</td>\n",
              "      <td>0.222688</td>\n",
              "      <td>0.401230</td>\n",
              "      <td>-0.111983</td>\n",
              "      <td>0.312368</td>\n",
              "      <td>-0.083180</td>\n",
              "      <td>0.209029</td>\n",
              "      <td>-0.060293</td>\n",
              "      <td>-0.208778</td>\n",
              "      <td>0.595106</td>\n",
              "      <td>1.277198</td>\n",
              "      <td>0.986355</td>\n",
              "      <td>0.819082</td>\n",
              "      <td>1.250622</td>\n",
              "      <td>1.335183</td>\n",
              "    </tr>\n",
              "    <tr>\n",
              "      <th>1</th>\n",
              "      <td>0.878208</td>\n",
              "      <td>1.819568</td>\n",
              "      <td>0.831547</td>\n",
              "      <td>0.822909</td>\n",
              "      <td>0.215356</td>\n",
              "      <td>0.169181</td>\n",
              "      <td>0.176418</td>\n",
              "      <td>0.443514</td>\n",
              "      <td>-0.011371</td>\n",
              "      <td>0.027774</td>\n",
              "      <td>1.888473</td>\n",
              "      <td>-0.107452</td>\n",
              "      <td>1.555026</td>\n",
              "      <td>1.627300</td>\n",
              "      <td>0.583733</td>\n",
              "      <td>-0.156656</td>\n",
              "      <td>-0.152380</td>\n",
              "      <td>0.437489</td>\n",
              "      <td>0.017995</td>\n",
              "      <td>0.258172</td>\n",
              "      <td>1.437403</td>\n",
              "      <td>1.440601</td>\n",
              "      <td>1.386406</td>\n",
              "      <td>1.399151</td>\n",
              "      <td>1.213089</td>\n",
              "      <td>-0.025527</td>\n",
              "      <td>-0.017493</td>\n",
              "      <td>0.664182</td>\n",
              "      <td>0.218640</td>\n",
              "      <td>0.429703</td>\n",
              "    </tr>\n",
              "    <tr>\n",
              "      <th>2</th>\n",
              "      <td>-0.725147</td>\n",
              "      <td>-1.107636</td>\n",
              "      <td>-0.701894</td>\n",
              "      <td>-0.706107</td>\n",
              "      <td>0.277579</td>\n",
              "      <td>0.188715</td>\n",
              "      <td>-0.252993</td>\n",
              "      <td>-0.578972</td>\n",
              "      <td>0.082838</td>\n",
              "      <td>0.756841</td>\n",
              "      <td>-0.417622</td>\n",
              "      <td>1.040754</td>\n",
              "      <td>-0.570963</td>\n",
              "      <td>-0.399166</td>\n",
              "      <td>1.776578</td>\n",
              "      <td>0.911091</td>\n",
              "      <td>0.741721</td>\n",
              "      <td>0.494242</td>\n",
              "      <td>-0.233378</td>\n",
              "      <td>0.673169</td>\n",
              "      <td>-0.819217</td>\n",
              "      <td>-0.972042</td>\n",
              "      <td>-0.837325</td>\n",
              "      <td>-0.732219</td>\n",
              "      <td>0.087477</td>\n",
              "      <td>-0.246030</td>\n",
              "      <td>-0.440748</td>\n",
              "      <td>-0.686419</td>\n",
              "      <td>-0.914875</td>\n",
              "      <td>-0.118319</td>\n",
              "    </tr>\n",
              "    <tr>\n",
              "      <th>3</th>\n",
              "      <td>0.070742</td>\n",
              "      <td>-0.559505</td>\n",
              "      <td>-0.045305</td>\n",
              "      <td>-0.040927</td>\n",
              "      <td>-2.294551</td>\n",
              "      <td>-1.476525</td>\n",
              "      <td>-1.027554</td>\n",
              "      <td>-1.103672</td>\n",
              "      <td>-1.085354</td>\n",
              "      <td>-1.289204</td>\n",
              "      <td>-0.942846</td>\n",
              "      <td>-0.913061</td>\n",
              "      <td>-0.947854</td>\n",
              "      <td>-0.615903</td>\n",
              "      <td>-1.252058</td>\n",
              "      <td>-1.199020</td>\n",
              "      <td>-0.859073</td>\n",
              "      <td>-1.292229</td>\n",
              "      <td>-0.606144</td>\n",
              "      <td>-0.892450</td>\n",
              "      <td>-0.260335</td>\n",
              "      <td>-0.814023</td>\n",
              "      <td>-0.362371</td>\n",
              "      <td>-0.326073</td>\n",
              "      <td>-2.067959</td>\n",
              "      <td>-1.337992</td>\n",
              "      <td>-1.149725</td>\n",
              "      <td>-1.247345</td>\n",
              "      <td>-0.700156</td>\n",
              "      <td>-1.310238</td>\n",
              "    </tr>\n",
              "    <tr>\n",
              "      <th>4</th>\n",
              "      <td>-0.050812</td>\n",
              "      <td>-0.699992</td>\n",
              "      <td>-0.119984</td>\n",
              "      <td>-0.153576</td>\n",
              "      <td>-0.620315</td>\n",
              "      <td>-0.926263</td>\n",
              "      <td>-0.927449</td>\n",
              "      <td>-0.713811</td>\n",
              "      <td>-1.401896</td>\n",
              "      <td>-0.551405</td>\n",
              "      <td>-0.503033</td>\n",
              "      <td>0.285846</td>\n",
              "      <td>-0.518571</td>\n",
              "      <td>-0.401743</td>\n",
              "      <td>-0.501371</td>\n",
              "      <td>-0.960483</td>\n",
              "      <td>-0.845560</td>\n",
              "      <td>-0.908513</td>\n",
              "      <td>-0.596335</td>\n",
              "      <td>-0.624881</td>\n",
              "      <td>-0.218155</td>\n",
              "      <td>-0.010895</td>\n",
              "      <td>-0.292614</td>\n",
              "      <td>-0.308523</td>\n",
              "      <td>-0.760042</td>\n",
              "      <td>-0.996822</td>\n",
              "      <td>-1.078395</td>\n",
              "      <td>-0.899524</td>\n",
              "      <td>-0.859947</td>\n",
              "      <td>-0.722564</td>\n",
              "    </tr>\n",
              "  </tbody>\n",
              "</table>\n",
              "</div>"
            ],
            "text/plain": [
              "   mean radius  mean texture  ...  worst symmetry  worst fractal dimension\n",
              "0    -0.053706     -0.534171  ...        1.250622                 1.335183\n",
              "1     0.878208      1.819568  ...        0.218640                 0.429703\n",
              "2    -0.725147     -1.107636  ...       -0.914875                -0.118319\n",
              "3     0.070742     -0.559505  ...       -0.700156                -1.310238\n",
              "4    -0.050812     -0.699992  ...       -0.859947                -0.722564\n",
              "\n",
              "[5 rows x 30 columns]"
            ]
          },
          "metadata": {
            "tags": []
          },
          "execution_count": 18
        }
      ]
    },
    {
      "cell_type": "code",
      "metadata": {
        "colab": {
          "base_uri": "https://localhost:8080/",
          "height": 355
        },
        "id": "Rv8R_n_lIBJJ",
        "outputId": "7a71babd-3281-440e-901c-60d829170ef6"
      },
      "source": [
        "X_train_sc.describe().round(2)"
      ],
      "execution_count": 19,
      "outputs": [
        {
          "output_type": "execute_result",
          "data": {
            "text/html": [
              "<div>\n",
              "<style scoped>\n",
              "    .dataframe tbody tr th:only-of-type {\n",
              "        vertical-align: middle;\n",
              "    }\n",
              "\n",
              "    .dataframe tbody tr th {\n",
              "        vertical-align: top;\n",
              "    }\n",
              "\n",
              "    .dataframe thead th {\n",
              "        text-align: right;\n",
              "    }\n",
              "</style>\n",
              "<table border=\"1\" class=\"dataframe\">\n",
              "  <thead>\n",
              "    <tr style=\"text-align: right;\">\n",
              "      <th></th>\n",
              "      <th>mean radius</th>\n",
              "      <th>mean texture</th>\n",
              "      <th>mean perimeter</th>\n",
              "      <th>mean area</th>\n",
              "      <th>mean smoothness</th>\n",
              "      <th>mean compactness</th>\n",
              "      <th>mean concavity</th>\n",
              "      <th>mean concave points</th>\n",
              "      <th>mean symmetry</th>\n",
              "      <th>mean fractal dimension</th>\n",
              "      <th>radius error</th>\n",
              "      <th>texture error</th>\n",
              "      <th>perimeter error</th>\n",
              "      <th>area error</th>\n",
              "      <th>smoothness error</th>\n",
              "      <th>compactness error</th>\n",
              "      <th>concavity error</th>\n",
              "      <th>concave points error</th>\n",
              "      <th>symmetry error</th>\n",
              "      <th>fractal dimension error</th>\n",
              "      <th>worst radius</th>\n",
              "      <th>worst texture</th>\n",
              "      <th>worst perimeter</th>\n",
              "      <th>worst area</th>\n",
              "      <th>worst smoothness</th>\n",
              "      <th>worst compactness</th>\n",
              "      <th>worst concavity</th>\n",
              "      <th>worst concave points</th>\n",
              "      <th>worst symmetry</th>\n",
              "      <th>worst fractal dimension</th>\n",
              "    </tr>\n",
              "  </thead>\n",
              "  <tbody>\n",
              "    <tr>\n",
              "      <th>count</th>\n",
              "      <td>455.00</td>\n",
              "      <td>455.00</td>\n",
              "      <td>455.00</td>\n",
              "      <td>455.00</td>\n",
              "      <td>455.00</td>\n",
              "      <td>455.00</td>\n",
              "      <td>455.00</td>\n",
              "      <td>455.00</td>\n",
              "      <td>455.00</td>\n",
              "      <td>455.00</td>\n",
              "      <td>455.00</td>\n",
              "      <td>455.00</td>\n",
              "      <td>455.00</td>\n",
              "      <td>455.00</td>\n",
              "      <td>455.00</td>\n",
              "      <td>455.00</td>\n",
              "      <td>455.00</td>\n",
              "      <td>455.00</td>\n",
              "      <td>455.00</td>\n",
              "      <td>455.00</td>\n",
              "      <td>455.00</td>\n",
              "      <td>455.00</td>\n",
              "      <td>455.00</td>\n",
              "      <td>455.00</td>\n",
              "      <td>455.00</td>\n",
              "      <td>455.00</td>\n",
              "      <td>455.00</td>\n",
              "      <td>455.00</td>\n",
              "      <td>455.00</td>\n",
              "      <td>455.00</td>\n",
              "    </tr>\n",
              "    <tr>\n",
              "      <th>mean</th>\n",
              "      <td>0.00</td>\n",
              "      <td>0.00</td>\n",
              "      <td>-0.00</td>\n",
              "      <td>-0.00</td>\n",
              "      <td>-0.00</td>\n",
              "      <td>-0.00</td>\n",
              "      <td>0.00</td>\n",
              "      <td>-0.00</td>\n",
              "      <td>-0.00</td>\n",
              "      <td>0.00</td>\n",
              "      <td>0.00</td>\n",
              "      <td>-0.00</td>\n",
              "      <td>0.00</td>\n",
              "      <td>0.00</td>\n",
              "      <td>0.00</td>\n",
              "      <td>-0.00</td>\n",
              "      <td>0.00</td>\n",
              "      <td>0.00</td>\n",
              "      <td>-0.00</td>\n",
              "      <td>0.00</td>\n",
              "      <td>0.00</td>\n",
              "      <td>0.00</td>\n",
              "      <td>-0.00</td>\n",
              "      <td>-0.00</td>\n",
              "      <td>-0.00</td>\n",
              "      <td>-0.00</td>\n",
              "      <td>0.00</td>\n",
              "      <td>-0.00</td>\n",
              "      <td>0.00</td>\n",
              "      <td>-0.00</td>\n",
              "    </tr>\n",
              "    <tr>\n",
              "      <th>std</th>\n",
              "      <td>1.00</td>\n",
              "      <td>1.00</td>\n",
              "      <td>1.00</td>\n",
              "      <td>1.00</td>\n",
              "      <td>1.00</td>\n",
              "      <td>1.00</td>\n",
              "      <td>1.00</td>\n",
              "      <td>1.00</td>\n",
              "      <td>1.00</td>\n",
              "      <td>1.00</td>\n",
              "      <td>1.00</td>\n",
              "      <td>1.00</td>\n",
              "      <td>1.00</td>\n",
              "      <td>1.00</td>\n",
              "      <td>1.00</td>\n",
              "      <td>1.00</td>\n",
              "      <td>1.00</td>\n",
              "      <td>1.00</td>\n",
              "      <td>1.00</td>\n",
              "      <td>1.00</td>\n",
              "      <td>1.00</td>\n",
              "      <td>1.00</td>\n",
              "      <td>1.00</td>\n",
              "      <td>1.00</td>\n",
              "      <td>1.00</td>\n",
              "      <td>1.00</td>\n",
              "      <td>1.00</td>\n",
              "      <td>1.00</td>\n",
              "      <td>1.00</td>\n",
              "      <td>1.00</td>\n",
              "    </tr>\n",
              "    <tr>\n",
              "      <th>min</th>\n",
              "      <td>-2.04</td>\n",
              "      <td>-2.20</td>\n",
              "      <td>-2.00</td>\n",
              "      <td>-1.46</td>\n",
              "      <td>-3.14</td>\n",
              "      <td>-1.62</td>\n",
              "      <td>-1.12</td>\n",
              "      <td>-1.27</td>\n",
              "      <td>-2.77</td>\n",
              "      <td>-1.84</td>\n",
              "      <td>-1.01</td>\n",
              "      <td>-1.58</td>\n",
              "      <td>-0.99</td>\n",
              "      <td>-0.69</td>\n",
              "      <td>-1.49</td>\n",
              "      <td>-1.28</td>\n",
              "      <td>-1.01</td>\n",
              "      <td>-1.86</td>\n",
              "      <td>-1.52</td>\n",
              "      <td>-1.08</td>\n",
              "      <td>-1.73</td>\n",
              "      <td>-2.22</td>\n",
              "      <td>-1.70</td>\n",
              "      <td>-1.22</td>\n",
              "      <td>-2.26</td>\n",
              "      <td>-1.45</td>\n",
              "      <td>-1.34</td>\n",
              "      <td>-1.77</td>\n",
              "      <td>-2.19</td>\n",
              "      <td>-1.67</td>\n",
              "    </tr>\n",
              "    <tr>\n",
              "      <th>25%</th>\n",
              "      <td>-0.69</td>\n",
              "      <td>-0.69</td>\n",
              "      <td>-0.70</td>\n",
              "      <td>-0.67</td>\n",
              "      <td>-0.75</td>\n",
              "      <td>-0.77</td>\n",
              "      <td>-0.75</td>\n",
              "      <td>-0.73</td>\n",
              "      <td>-0.68</td>\n",
              "      <td>-0.73</td>\n",
              "      <td>-0.60</td>\n",
              "      <td>-0.71</td>\n",
              "      <td>-0.60</td>\n",
              "      <td>-0.47</td>\n",
              "      <td>-0.62</td>\n",
              "      <td>-0.69</td>\n",
              "      <td>-0.53</td>\n",
              "      <td>-0.68</td>\n",
              "      <td>-0.66</td>\n",
              "      <td>-0.57</td>\n",
              "      <td>-0.69</td>\n",
              "      <td>-0.76</td>\n",
              "      <td>-0.69</td>\n",
              "      <td>-0.63</td>\n",
              "      <td>-0.67</td>\n",
              "      <td>-0.71</td>\n",
              "      <td>-0.79</td>\n",
              "      <td>-0.75</td>\n",
              "      <td>-0.64</td>\n",
              "      <td>-0.71</td>\n",
              "    </tr>\n",
              "    <tr>\n",
              "      <th>50%</th>\n",
              "      <td>-0.22</td>\n",
              "      <td>-0.12</td>\n",
              "      <td>-0.23</td>\n",
              "      <td>-0.29</td>\n",
              "      <td>-0.06</td>\n",
              "      <td>-0.20</td>\n",
              "      <td>-0.36</td>\n",
              "      <td>-0.40</td>\n",
              "      <td>-0.08</td>\n",
              "      <td>-0.17</td>\n",
              "      <td>-0.30</td>\n",
              "      <td>-0.19</td>\n",
              "      <td>-0.29</td>\n",
              "      <td>-0.34</td>\n",
              "      <td>-0.21</td>\n",
              "      <td>-0.28</td>\n",
              "      <td>-0.22</td>\n",
              "      <td>-0.14</td>\n",
              "      <td>-0.20</td>\n",
              "      <td>-0.25</td>\n",
              "      <td>-0.28</td>\n",
              "      <td>-0.07</td>\n",
              "      <td>-0.28</td>\n",
              "      <td>-0.34</td>\n",
              "      <td>-0.04</td>\n",
              "      <td>-0.25</td>\n",
              "      <td>-0.20</td>\n",
              "      <td>-0.23</td>\n",
              "      <td>-0.11</td>\n",
              "      <td>-0.23</td>\n",
              "    </tr>\n",
              "    <tr>\n",
              "      <th>75%</th>\n",
              "      <td>0.47</td>\n",
              "      <td>0.59</td>\n",
              "      <td>0.49</td>\n",
              "      <td>0.34</td>\n",
              "      <td>0.65</td>\n",
              "      <td>0.51</td>\n",
              "      <td>0.49</td>\n",
              "      <td>0.60</td>\n",
              "      <td>0.56</td>\n",
              "      <td>0.49</td>\n",
              "      <td>0.21</td>\n",
              "      <td>0.49</td>\n",
              "      <td>0.22</td>\n",
              "      <td>0.10</td>\n",
              "      <td>0.42</td>\n",
              "      <td>0.40</td>\n",
              "      <td>0.35</td>\n",
              "      <td>0.45</td>\n",
              "      <td>0.30</td>\n",
              "      <td>0.27</td>\n",
              "      <td>0.48</td>\n",
              "      <td>0.70</td>\n",
              "      <td>0.52</td>\n",
              "      <td>0.30</td>\n",
              "      <td>0.59</td>\n",
              "      <td>0.56</td>\n",
              "      <td>0.57</td>\n",
              "      <td>0.72</td>\n",
              "      <td>0.46</td>\n",
              "      <td>0.52</td>\n",
              "    </tr>\n",
              "    <tr>\n",
              "      <th>max</th>\n",
              "      <td>4.07</td>\n",
              "      <td>4.61</td>\n",
              "      <td>4.07</td>\n",
              "      <td>5.37</td>\n",
              "      <td>3.36</td>\n",
              "      <td>4.75</td>\n",
              "      <td>4.17</td>\n",
              "      <td>3.83</td>\n",
              "      <td>4.69</td>\n",
              "      <td>5.07</td>\n",
              "      <td>8.78</td>\n",
              "      <td>5.01</td>\n",
              "      <td>9.21</td>\n",
              "      <td>10.80</td>\n",
              "      <td>8.42</td>\n",
              "      <td>6.23</td>\n",
              "      <td>11.49</td>\n",
              "      <td>6.46</td>\n",
              "      <td>7.19</td>\n",
              "      <td>9.89</td>\n",
              "      <td>4.20</td>\n",
              "      <td>3.89</td>\n",
              "      <td>4.39</td>\n",
              "      <td>6.07</td>\n",
              "      <td>3.98</td>\n",
              "      <td>4.67</td>\n",
              "      <td>4.95</td>\n",
              "      <td>2.72</td>\n",
              "      <td>6.26</td>\n",
              "      <td>5.31</td>\n",
              "    </tr>\n",
              "  </tbody>\n",
              "</table>\n",
              "</div>"
            ],
            "text/plain": [
              "       mean radius  mean texture  ...  worst symmetry  worst fractal dimension\n",
              "count       455.00        455.00  ...          455.00                   455.00\n",
              "mean          0.00          0.00  ...            0.00                    -0.00\n",
              "std           1.00          1.00  ...            1.00                     1.00\n",
              "min          -2.04         -2.20  ...           -2.19                    -1.67\n",
              "25%          -0.69         -0.69  ...           -0.64                    -0.71\n",
              "50%          -0.22         -0.12  ...           -0.11                    -0.23\n",
              "75%           0.47          0.59  ...            0.46                     0.52\n",
              "max           4.07          4.61  ...            6.26                     5.31\n",
              "\n",
              "[8 rows x 30 columns]"
            ]
          },
          "metadata": {
            "tags": []
          },
          "execution_count": 19
        }
      ]
    },
    {
      "cell_type": "markdown",
      "metadata": {
        "id": "R_4DdxdCL6n6"
      },
      "source": [
        "# Train SVM model"
      ]
    },
    {
      "cell_type": "code",
      "metadata": {
        "colab": {
          "base_uri": "https://localhost:8080/"
        },
        "id": "m7M6t97rLJvQ",
        "outputId": "9bb5d7e3-86ce-47ef-d329-579245e68f8d"
      },
      "source": [
        "from sklearn.linear_model import LogisticRegression\r\n",
        "classification = LogisticRegression()\r\n",
        "classification.fit(X_train_sc,y_train)"
      ],
      "execution_count": 20,
      "outputs": [
        {
          "output_type": "execute_result",
          "data": {
            "text/plain": [
              "LogisticRegression(C=1.0, class_weight=None, dual=False, fit_intercept=True,\n",
              "                   intercept_scaling=1, l1_ratio=None, max_iter=100,\n",
              "                   multi_class='auto', n_jobs=None, penalty='l2',\n",
              "                   random_state=None, solver='lbfgs', tol=0.0001, verbose=0,\n",
              "                   warm_start=False)"
            ]
          },
          "metadata": {
            "tags": []
          },
          "execution_count": 20
        }
      ]
    },
    {
      "cell_type": "code",
      "metadata": {
        "colab": {
          "base_uri": "https://localhost:8080/"
        },
        "id": "zv18H9h0LcM_",
        "outputId": "7f68a7c9-2c68-4548-894a-e473053dbae8"
      },
      "source": [
        "classification.score(X_test_sc,y_test)"
      ],
      "execution_count": 21,
      "outputs": [
        {
          "output_type": "execute_result",
          "data": {
            "text/plain": [
              "0.9736842105263158"
            ]
          },
          "metadata": {
            "tags": []
          },
          "execution_count": 21
        }
      ]
    },
    {
      "cell_type": "markdown",
      "metadata": {
        "id": "9o3c5NYLPef5"
      },
      "source": [
        "# Predict Cancer"
      ]
    },
    {
      "cell_type": "code",
      "metadata": {
        "id": "_y6Yr2b7PVQA"
      },
      "source": [
        "preds = classification.predict(X_test_sc)"
      ],
      "execution_count": 22,
      "outputs": []
    },
    {
      "cell_type": "code",
      "metadata": {
        "id": "tMK2YfxHPxq7"
      },
      "source": [
        "# confusion matrix\r\n",
        "from sklearn.metrics import confusion_matrix\r\n",
        "cm = confusion_matrix(y_test,preds)"
      ],
      "execution_count": 23,
      "outputs": []
    },
    {
      "cell_type": "code",
      "metadata": {
        "colab": {
          "base_uri": "https://localhost:8080/"
        },
        "id": "EmZtcT1ST2Pp",
        "outputId": "8a364769-6887-410d-ae3b-f7e5df8032c3"
      },
      "source": [
        "cm"
      ],
      "execution_count": 24,
      "outputs": [
        {
          "output_type": "execute_result",
          "data": {
            "text/plain": [
              "array([[47,  1],\n",
              "       [ 2, 64]])"
            ]
          },
          "metadata": {
            "tags": []
          },
          "execution_count": 24
        }
      ]
    },
    {
      "cell_type": "code",
      "metadata": {
        "colab": {
          "base_uri": "https://localhost:8080/"
        },
        "id": "ODrNQ86MT324",
        "outputId": "3c81822a-61ee-4ffd-e12f-4f25ecbe3cef"
      },
      "source": [
        "# values came in the report of patient\r\n",
        "patient = [17.99,10.38,132.90,1001.0,0.11840,0.27760,0.0869,0.14710,0.1809,0.05667,1.0950,0.9053,8.589,153.40,0.006399,0.04904,0.01860,0.01340,0.03003,0.006193,25.38,17.33,184.60,2019.0,0.1622,0.6656,0.7119,0.2654,0.4601,0.11890]\r\n",
        "patient_sc = sc.transform(np.array([patient]))\r\n",
        "patient_sc"
      ],
      "execution_count": 25,
      "outputs": [
        {
          "output_type": "execute_result",
          "data": {
            "text/plain": [
              "array([[ 1.14157516e+00, -2.04268291e+00,  1.74196219e+00,\n",
              "         1.02590938e+00,  1.62044096e+00,  3.42348005e+00,\n",
              "        -1.37598791e-03,  2.64970572e+00,  4.89224138e-02,\n",
              "        -8.65733415e-01,  2.47642647e+00, -5.67294216e-01,\n",
              "         2.77495792e+00,  2.44785280e+00, -2.35166965e-01,\n",
              "         1.35781809e+00, -4.24208978e-01,  2.51463610e-01,\n",
              "         1.19270040e+00,  9.31263139e-01,  1.94777877e+00,\n",
              "        -1.35487239e+00,  2.37210178e+00,  2.06352534e+00,\n",
              "         1.31020065e+00,  2.82342306e+00,  2.23450433e+00,\n",
              "         2.38372721e+00,  2.86683913e+00,  2.10454451e+00]])"
            ]
          },
          "metadata": {
            "tags": []
          },
          "execution_count": 25
        }
      ]
    },
    {
      "cell_type": "code",
      "metadata": {
        "colab": {
          "base_uri": "https://localhost:8080/"
        },
        "id": "jFlUashzWAUq",
        "outputId": "6fb263f8-faaa-4123-9b06-b190076d0cb6"
      },
      "source": [
        "prediction = classification.predict(patient_sc)\r\n",
        "prediction"
      ],
      "execution_count": 26,
      "outputs": [
        {
          "output_type": "execute_result",
          "data": {
            "text/plain": [
              "array([0.])"
            ]
          },
          "metadata": {
            "tags": []
          },
          "execution_count": 26
        }
      ]
    },
    {
      "cell_type": "code",
      "metadata": {
        "colab": {
          "base_uri": "https://localhost:8080/"
        },
        "id": "Yt293VknXDST",
        "outputId": "be62dabe-d590-4b74-e5b3-f6fee74b5895"
      },
      "source": [
        "data.target_names"
      ],
      "execution_count": 27,
      "outputs": [
        {
          "output_type": "execute_result",
          "data": {
            "text/plain": [
              "array(['malignant', 'benign'], dtype='<U9')"
            ]
          },
          "metadata": {
            "tags": []
          },
          "execution_count": 27
        }
      ]
    },
    {
      "cell_type": "code",
      "metadata": {
        "colab": {
          "base_uri": "https://localhost:8080/"
        },
        "id": "bBzxd9syXJE5",
        "outputId": "7bd43a4d-8a3a-443b-92fc-8908435f620b"
      },
      "source": [
        "if prediction[0]==0:\r\n",
        "  print('Patient has cancer')\r\n",
        "else:\r\n",
        "  print('Patient has no cancer')"
      ],
      "execution_count": 28,
      "outputs": [
        {
          "output_type": "stream",
          "text": [
            "Patient has cancer\n"
          ],
          "name": "stdout"
        }
      ]
    },
    {
      "cell_type": "code",
      "metadata": {
        "id": "ynKAzDC5XWLP"
      },
      "source": [
        ""
      ],
      "execution_count": 28,
      "outputs": []
    }
  ]
}